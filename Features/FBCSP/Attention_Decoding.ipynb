{
 "cells": [
  {
   "cell_type": "markdown",
   "metadata": {},
   "source": [
    "# Attentional Decoding"
   ]
  },
  {
   "cell_type": "markdown",
   "metadata": {},
   "source": [
    "### Import Libraries"
   ]
  },
  {
   "cell_type": "code",
   "execution_count": null,
   "metadata": {},
   "outputs": [],
   "source": [
    "import numpy as np\n",
    "import matplotlib.pyplot as plt\n",
    "from mpl_toolkits.axes_grid1 import make_axes_locatable\n",
    "import mne\n",
    "\n",
    "from sklearn.pipeline import Pipeline\n",
    "from sklearn.pipeline import make_pipeline\n",
    "from sklearn.discriminant_analysis import LinearDiscriminantAnalysis\n",
    "from sklearn.model_selection import ShuffleSplit, cross_val_score\n",
    "from sklearn import svm\n",
    "from sklearn.model_selection import GridSearchCV\n",
    "from sklearn.ensemble import RandomForestClassifier\n",
    "from sklearn.linear_model import RidgeClassifier \n",
    "from sklearn.linear_model import LogisticRegression\n",
    "from sklearn.metrics import roc_auc_score\n",
    "from sklearn.model_selection import LeaveOneOut\n",
    "from sklearn.preprocessing import StandardScaler\n",
    "\n",
    "from mne.decoding import (CSP, SlidingEstimator, cross_val_multiscore, LinearModel,\n",
    "                         GeneralizingEstimator, Scaler, get_coef, Vectorizer)\n",
    "from mne import Epochs, pick_types, find_events\n",
    "from mne.channels import read_layout\n",
    "from mne.io import concatenate_raws, read_raw_edf\n",
    "from mne.datasets import eegbci\n",
    "from mne.viz.topomap import _prepare_topo_plot, plot_topomap\n",
    "from mne import io, EvokedArray\n",
    "\n",
    "from scipy.signal import welch\n",
    "\n"
   ]
  },
  {
   "cell_type": "markdown",
   "metadata": {},
   "source": [
    "## Read EEG Data"
   ]
  },
  {
   "cell_type": "code",
   "execution_count": null,
   "metadata": {},
   "outputs": [],
   "source": [
    "epochs = mne.read_epochs_eeglab(input_fname='../Results/Run4/fourSpeakerSimultaneous.set')\n",
    "print(epochs)\n",
    "print(epochs.event_id)\n",
    "labels = (epochs.events[:, -1] -1)\n",
    "print(labels)\n"
   ]
  },
  {
   "cell_type": "markdown",
   "metadata": {},
   "source": [
    "## Train and Optimize a Classifier with Tuned Hyperparameters"
   ]
  },
  {
   "cell_type": "code",
   "execution_count": null,
   "metadata": {},
   "outputs": [],
   "source": [
    "# Define a monte-carlo cross-validation generator (reduce variance):\n",
    "scores = []\n",
    "epochs_data = epochs.get_data()\n",
    "cv = ShuffleSplit(20, test_size=0.25, random_state=42)\n",
    "cv_split = cv.split(epochs_data)\n",
    "\n",
    "\n",
    "\n",
    "#params = {'C': [0.1, 0.5, 1, 2, 10, 100], 'gamma': [0.001, 0.01, 0.1, 1, 2, 10]}\n",
    "params = {'SVC__C': [0.1, 1, 2], 'SVC__gamma': [0.001, 0.01, 0.1, 1, 2, 3], 'CSP__n_components': [3,6,12]}\n",
    "SVC = svm.SVC(kernel='rbf')\n",
    "csp = CSP(log=True, norm_trace=False)\n",
    "pipe = Pipeline([('CSP', csp), ('SVC', SVC)])\n",
    "search = GridSearchCV(pipe, params, cv=cv, n_jobs=-1, iid=False, return_train_score=False)\n",
    "search.fit(epochs_data, labels)\n",
    "print('Classification Accuracy: ', round(search.best_score_,3), ' ---- Best Parameters:', \n",
    "      ' C: ', search.best_params_.get('SVC__C'), ' Gamma: ', search.best_params_.get('SVC__gamma'),\n",
    "      ' # CSP_components: ', search.best_params_.get('CSP__n_components'))\n",
    "csp = CSP(n_components=search.best_params_.get('CSP__n_components'), log=True, norm_trace=False)\n",
    "'''\n",
    "# Assemble a classifier\n",
    "SVC = svm.SVC(kernel='rbf', gamma=3, C=2)\n",
    "lda = LinearDiscriminantAnalysis()\n",
    "\n",
    "mne.set_log_level('WARNING')\n",
    "csp = CSP(n_components = 12, log=True, norm_trace=False)\n",
    "#('auto', 'empirical', 'diagonal_fixed', 'ledoit_wolf', 'oas', 'shrunk', 'pca', 'factor_analysis', 'shrinkage')\"\n",
    "# Use scikit-learn Pipeline with cross_val_score function\n",
    "clf = Pipeline([('CSP', csp), ('SVC', SVC)])\n",
    "scores = cross_val_score(clf, epochs_data, labels, cv=cv, n_jobs=1)\n",
    "\n",
    "# Printing the results\n",
    "class_balance = np.mean(labels == labels[0])\n",
    "class_balance = max(class_balance, 1. - class_balance)\n",
    "print(\"Classification accuracy: %f / Chance level: %f\" % (np.mean(scores),\n",
    "                                                         class_balance))\n",
    "'''"
   ]
  },
  {
   "cell_type": "markdown",
   "metadata": {},
   "source": [
    "## Plot CSP patterns on full data for visualization"
   ]
  },
  {
   "cell_type": "code",
   "execution_count": null,
   "metadata": {},
   "outputs": [],
   "source": [
    "# plot CSP patterns estimated on full data for visualization\n",
    "csp.fit_transform(epochs_data, labels)\n",
    "\n",
    "layout = read_layout('EEG1005')\n",
    "csp.plot_patterns(epochs.info, layout=layout, ch_type='eeg',\n",
    "                  units='Patterns (AU)', scalings=1e-9)\n",
    "csp.plot_filters(epochs.info, layout=layout, ch_type='eeg', units='Patterns (AU)', scalings=1e-9)"
   ]
  },
  {
   "cell_type": "markdown",
   "metadata": {},
   "source": [
    "## Get the desired spatial pattern and plot spectral density"
   ]
  },
  {
   "cell_type": "code",
   "execution_count": null,
   "metadata": {},
   "outputs": [],
   "source": [
    "# get data\n",
    "X = epochs.get_data()\n",
    "labels = (epochs.events[:, -1] -1)\n",
    "y = np.array(labels)\n",
    "\n",
    "# compute spatial filtered spectrum\n",
    "po = []\n",
    "# Over all CSP filters\n",
    "for x in X:\n",
    "    po2 = []\n",
    "    for filter in range(np.shape(csp.filters_)[1]):\n",
    "        f,p = welch(np.dot(csp.filters_[filter,:].T,x), 500, nperseg=512)\n",
    "        po2.append(p)\n",
    "    po.append(po2)\n",
    "po = np.array(po)\n",
    "po = po.mean(axis=1)\n",
    "''' For a single CSP Filter\n",
    "for x in X:\n",
    "    f,p = welch(np.dot(csp.filters_[0,:].T,x), 500, nperseg=512)\n",
    "    po.append(p)\n",
    "po = np.array(po)\n",
    "'''\n",
    "# prepare topoplot\n",
    "_,epos,_,_,_ = _prepare_topo_plot(epochs,'eeg',None)\n",
    "    \n",
    "# plot first pattern\n",
    "pattern = csp.patterns_[0,:]\n",
    "pattern -= pattern.mean()\n",
    "ix = np.argmax(abs(pattern))\n",
    "# the pattern is sign invariant.\n",
    "# invert it for display purpose\n",
    "if pattern[ix]>0:\n",
    "    sign = 1.0\n",
    "else:\n",
    "    sign = -1.0\n",
    "    \n",
    "fig, ax_topo = plt.subplots(1, 1, figsize=(22, 4))\n",
    "#title = 'Spatial Pattern'\n",
    "#fig.suptitle(title, fontsize=14)\n",
    "img, _ = plot_topomap(sign*pattern,epos,show=False)\n",
    "divider = make_axes_locatable(ax_topo)\n",
    "# add axes for colorbar\n",
    "ax_colorbar = divider.append_axes('right', size='10%', pad=0.5)\n",
    "plt.colorbar(img, cax=ax_colorbar)\n",
    "\n",
    "# plot spectrum\n",
    "fix = (f>4) & (f<41)\n",
    "ax_spectrum = divider.append_axes('right', size='300%', pad=3.2)\n",
    "ax_spectrum.plot(f[fix],np.log(po[y==1][:,fix].mean(axis=0).T),'-r',lw=2)\n",
    "ax_spectrum.plot(f[fix],np.log(po[y==0][:,fix].mean(axis=0).T),'-b',lw=2)\n",
    "ax_spectrum.plot(f[fix],np.log(po[y==3][:,fix].mean(axis=0).T),'-y',lw=2)\n",
    "ax_spectrum.plot(f[fix],np.log(po[y==2][:,fix].mean(axis=0).T),'-g',lw=2)\n",
    "ax_spectrum.set_xlabel('Frequency (Hz)', fontsize='xx-large')\n",
    "ax_spectrum.set_ylabel('Power (dB)', fontsize='xx-large')\n",
    "plt.grid()\n",
    "#plt.ylim(-6.5, -5.0)\n",
    "plt.tick_params(labelsize=20)\n",
    "plt.rc('xtick', labelsize=20)     \n",
    "plt.rc('ytick', labelsize=20)\n",
    "#plt.legend(['Left Attention','Right Attention'], fontsize='xx-large')\n",
    "plt.legend(['Back Left Attention','Back Right Attention', 'Front Left Attention', 'Front Right Attention'], fontsize='xx-large')\n",
    "#plt.title('Subject: Michael Balas')\n",
    "plt.show()\n",
    "#plt.savefig('spatial_pattern_subject_%02d.png' % subject ,bbox_inches='tight')"
   ]
  },
  {
   "cell_type": "code",
   "execution_count": null,
   "metadata": {},
   "outputs": [],
   "source": [
    "# import a linear classifier from mne.decoding\n",
    "\n",
    "X = epochs.pick_types(meg=False, eeg=True)\n",
    "y = epochs.events[:, 2]\n",
    "\n",
    "# Define a unique pipeline to sequentially:\n",
    "clf = make_pipeline(\n",
    "    Vectorizer(),                       # 1) vectorize across time and channels\n",
    "    StandardScaler(),                   # 2) normalize features across trials\n",
    "    LinearModel(\n",
    "        LogisticRegression(solver='lbfgs')))  # 3) fits a logistic regression\n",
    "clf.fit(X, y)\n",
    "\n",
    "# Extract and plot patterns and filters\n",
    "for name in ('patterns_', 'filters_'):\n",
    "    # The `inverse_transform` parameter will call this method on any estimator\n",
    "    # contained in the pipeline, in reverse order.\n",
    "    coef = get_coef(clf, name, inverse_transform=True)\n",
    "    evoked = EvokedArray(coef, epochs.info, tmin=epochs.tmin)\n",
    "    evoked.plot_topomap(title='EEG %s' % name[:-1], time_unit='s')"
   ]
  },
  {
   "cell_type": "markdown",
   "metadata": {},
   "source": [
    "## Temporal Decoding"
   ]
  },
  {
   "cell_type": "code",
   "execution_count": null,
   "metadata": {},
   "outputs": [],
   "source": [
    "X = epochs.get_data()  # MEG signals: n_epochs, n_meg_channels, n_times\n",
    "y = epochs.events[:, 2]-1  # target: Audio left or right\n",
    "\n",
    "clf = make_pipeline(StandardScaler(), LogisticRegression(solver='lbfgs'))\n",
    "\n",
    "time_decod = SlidingEstimator(clf, n_jobs=1, verbose=True)\n",
    "scores = cross_val_multiscore(time_decod, X, y, cv=3, n_jobs=1)\n",
    "\n",
    "# Mean scores across cross-validation splits\n",
    "scores = np.mean(scores, axis=0)\n",
    "\n",
    "# Plot\n",
    "fig, ax = plt.subplots()\n",
    "ax.plot(epochs.times, scores, label='score')\n",
    "ax.axhline(.5, color='k', linestyle='--', label='chance')\n",
    "ax.set_xlabel('Times')\n",
    "ax.set_ylabel('AUC')  # Area Under the Curve\n",
    "ax.legend()\n",
    "ax.axvline(.0, color='k', linestyle='-')\n",
    "ax.set_title('Sensor space decoding')"
   ]
  },
  {
   "cell_type": "code",
   "execution_count": null,
   "metadata": {},
   "outputs": [],
   "source": [
    "clf = make_pipeline(StandardScaler(),\n",
    "                    LinearModel(LogisticRegression(solver='lbfgs')))\n",
    "time_decod = SlidingEstimator(clf, n_jobs=1, scoring='accuracy', verbose=True)\n",
    "time_decod.fit(X, y)\n",
    "\n",
    "coef = get_coef(time_decod, 'patterns_', inverse_transform=True)\n",
    "coef = np.mean(coef,axis=1)\n",
    "# Show only the first four seconds\n",
    "fourSecs = int((4.40565624999999983)*256)\n",
    "evoked = mne.EvokedArray(coef[:,:fourSecs], epochs.info, tmin=epochs.times[0])\n",
    "joint_kwargs = dict(ts_args=dict(time_unit='s'),\n",
    "                    topomap_args=dict(time_unit='s'))\n",
    "evoked.plot_joint(times=[-0.5,0,1,2,3,4], title='patterns',**joint_kwargs)"
   ]
  },
  {
   "cell_type": "markdown",
   "metadata": {},
   "source": [
    "## Temporal Generalization"
   ]
  },
  {
   "cell_type": "code",
   "execution_count": null,
   "metadata": {},
   "outputs": [],
   "source": [
    "# define the Temporal generalization object\n",
    "clf = make_pipeline(StandardScaler(),\n",
    "                    LinearModel(LogisticRegression(solver='lbfgs')))\n",
    "time_gen = GeneralizingEstimator(clf, n_jobs=-1, scoring='accuracy',\n",
    "                                 verbose=True)\n",
    "\n",
    "scores = cross_val_multiscore(time_gen, epochs.get_data(), labels, cv=5, n_jobs=-1)\n",
    "\n",
    "# Mean scores across cross-validation splits\n",
    "scores = np.mean(scores, axis=0)\n",
    "\n",
    "# Plot the diagonal (it's exactly the same as the time-by-time decoding above)\n",
    "fig, ax = plt.subplots()\n",
    "ax.plot(epochs.times, np.diag(scores), label='score')\n",
    "ax.axhline(.5, color='k', linestyle='--', label='chance')\n",
    "ax.set_xlabel('Times')\n",
    "ax.set_ylabel('AUC')\n",
    "ax.legend()\n",
    "ax.axvline(.0, color='k', linestyle='-')\n",
    "ax.set_title('Decoding MEG sensors over time')"
   ]
  },
  {
   "cell_type": "markdown",
   "metadata": {},
   "source": [
    "#### Plot the full generalization matrix"
   ]
  },
  {
   "cell_type": "code",
   "execution_count": null,
   "metadata": {},
   "outputs": [],
   "source": [
    "fig, ax = plt.subplots(1, 1)\n",
    "im = ax.imshow(scores, interpolation='lanczos', origin='lower', cmap='RdBu_r',\n",
    "               extent=epochs.times[[0, -1, 0, -1]], vmin=0., vmax=1.)\n",
    "ax.set_xlabel('Testing Time (s)')\n",
    "ax.set_ylabel('Training Time (s)')\n",
    "ax.set_title('Temporal generalization')\n",
    "ax.axvline(0, color='k')\n",
    "ax.axhline(0, color='k')\n",
    "plt.colorbar(im, ax=ax)"
   ]
  }
 ],
 "metadata": {
  "kernelspec": {
   "display_name": "Python 3",
   "language": "python",
   "name": "python3"
  },
  "language_info": {
   "codemirror_mode": {
    "name": "ipython",
    "version": 3
   },
   "file_extension": ".py",
   "mimetype": "text/x-python",
   "name": "python",
   "nbconvert_exporter": "python",
   "pygments_lexer": "ipython3",
   "version": "3.7.2"
  }
 },
 "nbformat": 4,
 "nbformat_minor": 2
}
